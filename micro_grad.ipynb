{
 "cells": [
  {
   "cell_type": "code",
   "execution_count": null,
   "id": "483db397",
   "metadata": {},
   "outputs": [],
   "source": [
    "import numpy as np\n",
    "import matplotlib.pyplot as plt\n",
    "import math"
   ]
  },
  {
   "cell_type": "code",
   "execution_count": null,
   "id": "4eaa7e32",
   "metadata": {},
   "outputs": [],
   "source": [
    "#we will be building micrograd from scratch\n",
    "class value:\n",
    "    def __init__(self, data, children = (), op=''):\n",
    "        self.data = data\n",
    "        self.children = set(children)\n",
    "        self.op = op\n",
    "    \n",
    "    def __add__(self,other):\n",
    "        out = value(self.data + other.data, children=(self,other),op='+')\n",
    "        return out\n",
    "    \n",
    "    def __mul__(self, other):\n",
    "        out = value(self.data*other.data, children= (self,other),op='*')\n",
    "        return out"
   ]
  },
  {
   "cell_type": "code",
   "execution_count": null,
   "id": "6e0d3086",
   "metadata": {},
   "outputs": [],
   "source": [
    "a = value(3.0)\n",
    "b = value(4.0)\n",
    "\n"
   ]
  }
 ],
 "metadata": {
  "kernelspec": {
   "display_name": "venv",
   "language": "python",
   "name": "python3"
  },
  "language_info": {
   "name": "python",
   "version": "3.13.5"
  }
 },
 "nbformat": 4,
 "nbformat_minor": 5
}
